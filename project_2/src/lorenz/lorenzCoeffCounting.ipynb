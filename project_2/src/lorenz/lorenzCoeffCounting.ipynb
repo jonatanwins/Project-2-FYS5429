{
 "cells": [
  {
   "cell_type": "code",
   "execution_count": 1,
   "metadata": {},
   "outputs": [],
   "source": [
    "import sys\n",
    "sys.path.append('../')\n",
    "from trainer import SINDy_trainer, update_mask\n",
    "import jax.numpy as jnp\n",
    "import numpy as np\n",
    "\n",
    "#exmp input can be anythig if we are not passing any data through the autoencoder\n",
    "exmp_input = jnp.array([1])\n",
    "\n",
    "def get_xi_and_lib_params(model_path):\n",
    "    trainer = SINDy_trainer.load_from_checkpoint(model_path, exmp_input)\n",
    "\n",
    "    xi_raw = trainer.state.params['sindy_coefficients']\n",
    "\n",
    "    #we don't store mask so we need to recreate it\n",
    "    mask = update_mask(xi_raw)\n",
    "\n",
    "    library_hparams = trainer.library_hparams\n",
    "\n",
    "    xi = xi_raw * mask\n",
    "    #making xi numpy array just to support assignment dont want to use .at[idx].set(val) method for jax arrays\n",
    "    xi = np.array(xi)\n",
    "    return xi, library_hparams"
   ]
  },
  {
   "cell_type": "markdown",
   "metadata": {},
   "source": [
    "## Coeff counting linear transform Kathleen setup"
   ]
  },
  {
   "cell_type": "code",
   "execution_count": 2,
   "metadata": {},
   "outputs": [
    {
     "name": "stdout",
     "output_type": "stream",
     "text": [
      "Number of coefficients: 6\n",
      "  - checkpoints/linear/kathleenreplicas/version_30\n",
      "Number of coefficients: 8\n",
      "  - checkpoints/linear/kathleenreplicas/version_9\n",
      "  - checkpoints/linear/kathleenreplicas/version_20\n",
      "Number of coefficients: 10\n",
      "  - checkpoints/linear/kathleenreplicas/version_6\n",
      "Number of coefficients: 12\n",
      "  - checkpoints/linear/kathleenreplicas/version_5\n",
      "Number of coefficients: 13\n",
      "  - checkpoints/linear/kathleenreplicas/version_3\n",
      "  - checkpoints/linear/kathleenreplicas/version_8\n",
      "  - checkpoints/linear/kathleenreplicas/version_10\n",
      "Number of coefficients: 15\n",
      "  - checkpoints/linear/kathleenreplicas/version_16\n",
      "Number of coefficients: 17\n",
      "  - checkpoints/linear/kathleenreplicas/version_22\n",
      "  - checkpoints/linear/kathleenreplicas/version_26\n",
      "  - checkpoints/linear/kathleenreplicas/version_31\n",
      "Number of coefficients: 18\n",
      "  - checkpoints/linear/kathleenreplicas/version_0\n",
      "  - checkpoints/linear/kathleenreplicas/version_27\n",
      "Number of coefficients: 20\n",
      "  - checkpoints/linear/kathleenreplicas/version_7\n",
      "  - checkpoints/linear/kathleenreplicas/version_24\n",
      "Number of coefficients: 22\n",
      "  - checkpoints/linear/kathleenreplicas/version_4\n",
      "Number of coefficients: 25\n",
      "  - checkpoints/linear/kathleenreplicas/version_17\n",
      "Number of coefficients: 28\n",
      "  - checkpoints/linear/kathleenreplicas/version_2\n",
      "Number of coefficients: 29\n",
      "  - checkpoints/linear/kathleenreplicas/version_21\n",
      "Number of coefficients: 30\n",
      "  - checkpoints/linear/kathleenreplicas/version_23\n",
      "  - checkpoints/linear/kathleenreplicas/version_28\n",
      "Number of coefficients: 31\n",
      "  - checkpoints/linear/kathleenreplicas/version_18\n",
      "Number of coefficients: 32\n",
      "  - checkpoints/linear/kathleenreplicas/version_1\n",
      "Number of coefficients: 36\n",
      "  - checkpoints/linear/kathleenreplicas/version_19\n",
      "Number of coefficients: 37\n",
      "  - checkpoints/linear/kathleenreplicas/version_29\n",
      "Number of coefficients: 42\n",
      "  - checkpoints/linear/kathleenreplicas/version_25\n"
     ]
    }
   ],
   "source": [
    "from collections import defaultdict\n",
    "\n",
    "n_coeffs = {}\n",
    "for i in range(32):\n",
    "    if i == 11 or i == 12 or i == 13 or i == 14 or i == 15:\n",
    "        continue  # missing data\n",
    "    model_path = \"checkpoints/linear/kathleenreplicas/version_\" + str(i)\n",
    "    xi, lib_params = get_xi_and_lib_params(model_path)\n",
    "    n_coeffs[model_path] = np.count_nonzero(xi)\n",
    "\n",
    "# Group model paths by the number of coefficients\n",
    "coeffs_grouped = defaultdict(list)\n",
    "for model_path, count in n_coeffs.items():\n",
    "    coeffs_grouped[count].append(model_path)\n",
    "\n",
    "# Sort the grouped dictionary by the number of coefficients\n",
    "sorted_coeffs_grouped = dict(sorted(coeffs_grouped.items()))\n",
    "\n",
    "# Display the results\n",
    "for count, paths in sorted_coeffs_grouped.items():\n",
    "    print(f\"Number of coefficients: {count}\")\n",
    "    for path in paths:\n",
    "        print(f\"  - {path}\")\n",
    "\n",
    "    "
   ]
  },
  {
   "cell_type": "markdown",
   "metadata": {},
   "source": [
    "### Coeff counts tanh linear transform"
   ]
  },
  {
   "cell_type": "code",
   "execution_count": 3,
   "metadata": {},
   "outputs": [
    {
     "name": "stdout",
     "output_type": "stream",
     "text": [
      "Number of coefficients: 8\n",
      "  - checkpoints/linear/tanh/version_2\n",
      "  - checkpoints/linear/tanh/version_4\n",
      "  - checkpoints/linear/tanh/version_6\n",
      "Number of coefficients: 12\n",
      "  - checkpoints/linear/tanh/version_5\n",
      "Number of coefficients: 14\n",
      "  - checkpoints/linear/tanh/version_3\n",
      "  - checkpoints/linear/tanh/version_7\n",
      "Number of coefficients: 44\n",
      "  - checkpoints/linear/tanh/version_0\n",
      "Number of coefficients: 47\n",
      "  - checkpoints/linear/tanh/version_1\n"
     ]
    }
   ],
   "source": [
    "n_coeffs = {}\n",
    "for i in range(8):\n",
    "    model_path = \"checkpoints/linear/tanh/version_\" + str(i)\n",
    "    xi, lib_params = get_xi_and_lib_params(model_path)\n",
    "    n_coeffs[model_path] = np.count_nonzero(xi)\n",
    "\n",
    "# Group model paths by the number of coefficients\n",
    "coeffs_grouped = defaultdict(list)\n",
    "for model_path, count in n_coeffs.items():\n",
    "    coeffs_grouped[count].append(model_path)\n",
    "\n",
    "# Sort the grouped dictionary by the number of coefficients\n",
    "sorted_coeffs_grouped = dict(sorted(coeffs_grouped.items()))\n",
    "\n",
    "# Display the results\n",
    "for count, paths in sorted_coeffs_grouped.items():\n",
    "    print(f\"Number of coefficients: {count}\")\n",
    "    for path in paths:\n",
    "        print(f\"  - {path}\")"
   ]
  },
  {
   "cell_type": "markdown",
   "metadata": {},
   "source": [
    "### Coeff counts AdamW linear transform"
   ]
  },
  {
   "cell_type": "code",
   "execution_count": 4,
   "metadata": {},
   "outputs": [
    {
     "name": "stdout",
     "output_type": "stream",
     "text": [
      "Number of coefficients: 14\n",
      "  - checkpoints/linear/AdamW-linear/version_14\n",
      "Number of coefficients: 16\n",
      "  - checkpoints/linear/AdamW-linear/version_11\n",
      "  - checkpoints/linear/AdamW-linear/version_15\n",
      "Number of coefficients: 21\n",
      "  - checkpoints/linear/AdamW-linear/version_12\n",
      "Number of coefficients: 29\n",
      "  - checkpoints/linear/AdamW-linear/version_13\n"
     ]
    }
   ],
   "source": [
    "n_coeffs = {}\n",
    "for i in range(11, 16):\n",
    "    model_path = \"checkpoints/linear/AdamW-linear/version_\" + str(i)\n",
    "    xi, lib_params = get_xi_and_lib_params(model_path)\n",
    "    n_coeffs[model_path] = np.count_nonzero(xi)\n",
    "\n",
    "# Group model paths by the number of coefficients\n",
    "coeffs_grouped = defaultdict(list)\n",
    "for model_path, count in n_coeffs.items():\n",
    "    coeffs_grouped[count].append(model_path)\n",
    "\n",
    "# Sort the grouped dictionary by the number of coefficients\n",
    "sorted_coeffs_grouped = dict(sorted(coeffs_grouped.items()))\n",
    "\n",
    "# Display the results\n",
    "for count, paths in sorted_coeffs_grouped.items():\n",
    "    print(f\"Number of coefficients: {count}\")\n",
    "    for path in paths:\n",
    "        print(f\"  - {path}\")"
   ]
  },
  {
   "cell_type": "markdown",
   "metadata": {},
   "source": [
    "## Coeffs nonlinear cooardinate transform Kathleen setup"
   ]
  },
  {
   "cell_type": "code",
   "execution_count": 6,
   "metadata": {},
   "outputs": [
    {
     "name": "stdout",
     "output_type": "stream",
     "text": [
      "Number of coefficients: 6\n",
      "  - checkpoints/Nonlinear/kathleenreplicas2/version_5\n",
      "Number of coefficients: 7\n",
      "  - checkpoints/Nonlinear/kathleenreplicas/version_2\n",
      "  - checkpoints/Nonlinear/kathleenreplicas/version_14\n",
      "  - checkpoints/Nonlinear/kathleenreplicas2/version_3\n",
      "  - checkpoints/Nonlinear/kathleenreplicas2/version_6\n",
      "  - checkpoints/Nonlinear/kathleenreplicas2/version_10\n",
      "  - checkpoints/Nonlinear/kathleenreplicas2/version_14\n",
      "Number of coefficients: 8\n",
      "  - checkpoints/Nonlinear/kathleenreplicas/version_0\n",
      "  - checkpoints/Nonlinear/kathleenreplicas/version_16\n",
      "  - checkpoints/Nonlinear/kathleenreplicas2/version_12\n",
      "  - checkpoints/Nonlinear/kathleenreplicas2/version_13\n",
      "  - checkpoints/Nonlinear/kathleenreplicas2/version_19\n",
      "Number of coefficients: 9\n",
      "  - checkpoints/Nonlinear/kathleenreplicas2/version_2\n",
      "Number of coefficients: 10\n",
      "  - checkpoints/Nonlinear/kathleenreplicas/version_3\n",
      "  - checkpoints/Nonlinear/kathleenreplicas/version_6\n",
      "  - checkpoints/Nonlinear/kathleenreplicas/version_8\n",
      "  - checkpoints/Nonlinear/kathleenreplicas/version_12\n",
      "  - checkpoints/Nonlinear/kathleenreplicas/version_17\n",
      "  - checkpoints/Nonlinear/kathleenreplicas2/version_11\n",
      "Number of coefficients: 12\n",
      "  - checkpoints/Nonlinear/kathleenreplicas/version_1\n",
      "  - checkpoints/Nonlinear/kathleenreplicas/version_15\n",
      "Number of coefficients: 13\n",
      "  - checkpoints/Nonlinear/kathleenreplicas2/version_7\n",
      "Number of coefficients: 14\n",
      "  - checkpoints/Nonlinear/kathleenreplicas/version_4\n",
      "  - checkpoints/Nonlinear/kathleenreplicas/version_18\n",
      "  - checkpoints/Nonlinear/kathleenreplicas2/version_17\n",
      "Number of coefficients: 15\n",
      "  - checkpoints/Nonlinear/kathleenreplicas/version_11\n",
      "  - checkpoints/Nonlinear/kathleenreplicas/version_19\n",
      "  - checkpoints/Nonlinear/kathleenreplicas2/version_16\n",
      "Number of coefficients: 16\n",
      "  - checkpoints/Nonlinear/kathleenreplicas/version_13\n",
      "  - checkpoints/Nonlinear/kathleenreplicas2/version_18\n",
      "Number of coefficients: 17\n",
      "  - checkpoints/Nonlinear/kathleenreplicas/version_10\n",
      "  - checkpoints/Nonlinear/kathleenreplicas2/version_9\n",
      "  - checkpoints/Nonlinear/kathleenreplicas2/version_15\n",
      "Number of coefficients: 18\n",
      "  - checkpoints/Nonlinear/kathleenreplicas2/version_4\n",
      "Number of coefficients: 19\n",
      "  - checkpoints/Nonlinear/kathleenreplicas/version_5\n",
      "  - checkpoints/Nonlinear/kathleenreplicas/version_9\n",
      "Number of coefficients: 20\n",
      "  - checkpoints/Nonlinear/kathleenreplicas/version_7\n",
      "Number of coefficients: 21\n",
      "  - checkpoints/Nonlinear/kathleenreplicas2/version_8\n",
      "Number of coefficients: 45\n",
      "  - checkpoints/Nonlinear/kathleenreplicas2/version_0\n",
      "  - checkpoints/Nonlinear/kathleenreplicas2/version_20\n"
     ]
    }
   ],
   "source": [
    "n_coeffs = {}\n",
    "for i in range(20):\n",
    "    model_path = \"checkpoints/Nonlinear/kathleenreplicas/version_\" + str(i)\n",
    "    xi, lib_params = get_xi_and_lib_params(model_path)\n",
    "    n_coeffs[model_path] = np.count_nonzero(xi)\n",
    "\n",
    "for i in range(21):\n",
    "    if i == 1:\n",
    "        continue #missing data \n",
    "    model_path = \"checkpoints/Nonlinear/kathleenreplicas2/version_\" + str(i) \n",
    "    xi, lib_params = get_xi_and_lib_params(model_path)\n",
    "    n_coeffs[model_path] = np.count_nonzero(xi)\n",
    "\n",
    "# Group model paths by the number of coefficients\n",
    "coeffs_grouped = defaultdict(list)\n",
    "for model_path, count in n_coeffs.items():\n",
    "    coeffs_grouped[count].append(model_path)\n",
    "\n",
    "# Sort the grouped dictionary by the number of coefficients\n",
    "sorted_coeffs_grouped = dict(sorted(coeffs_grouped.items()))\n",
    "\n",
    "# Display the results\n",
    "for count, paths in sorted_coeffs_grouped.items():\n",
    "    print(f\"Number of coefficients: {count}\")\n",
    "    for path in paths:\n",
    "        print(f\"  - {path}\")"
   ]
  }
 ],
 "metadata": {
  "kernelspec": {
   "display_name": "SA",
   "language": "python",
   "name": "python3"
  },
  "language_info": {
   "codemirror_mode": {
    "name": "ipython",
    "version": 3
   },
   "file_extension": ".py",
   "mimetype": "text/x-python",
   "name": "python",
   "nbconvert_exporter": "python",
   "pygments_lexer": "ipython3",
   "version": "3.12.3"
  }
 },
 "nbformat": 4,
 "nbformat_minor": 2
}
