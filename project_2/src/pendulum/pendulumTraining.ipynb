{
 "cells": [
  {
   "cell_type": "markdown",
   "metadata": {},
   "source": [
    "This notebook reproduces the nonlinear Pendulum results from [Champion et. al](https://www.pnas.org/doi/full/10.1073/pnas.1906995116). The data generation is specified in the  [appendix](https://www.pnas.org/action/downloadSupplement?doi=10.1073%2Fpnas.1906995116&file=pnas.1906995116.sapp.pdf) of [Champion et. al](https://www.pnas.org/doi/full/10.1073/pnas.1906995116), and is restated here. \n",
    "\n",
    "\n",
    "\n",
    "\n"
   ]
  },
  {
   "cell_type": "markdown",
   "metadata": {},
   "source": [
    "The nonlinear pendulum equation is given by\n",
    "\n",
    "\\begin{equation}\n",
    "\\ddot{z} = -sin(z)\n",
    "\\end{equation}\n",
    "\n",
    "Here $z$ denotes the angle between the vertical and the pendulum"
   ]
  },
  {
   "cell_type": "markdown",
   "metadata": {},
   "source": [
    "As per the appendix \"We generate synthetic video of the pendulum in two spatial dimensions by creating high-dimensional snapshots given by\""
   ]
  },
  {
   "cell_type": "markdown",
   "metadata": {},
   "source": [
    "$$\n",
    "x(y_1, y_2, t) = exp \\left( -20 \\left(  (y_1 - cos(z(t)) - \\pi/2)\\right)^2 + (y_2  - sin(z(t)) - \\pi/2)^2 \\right)\n",
    "$$"
   ]
  },
  {
   "cell_type": "markdown",
   "metadata": {},
   "source": [
    "\n",
    "\"at a discretization of $y_1, y_2 \\in [−1.5, 1.5]$ . We use 51 grid points in each dimension resulting in snapshots $x(t) \\in \\mathbb{R}^{2601}$. To generate\n",
    "a training set, we simulate Eq. (1) from 100 randomly chosen initial conditions with $z(0) \\in [-\\pi, \\pi]$ and $\\dot{z(0)} \\in [−2.1, 2.1]$. The\n",
    "156 initial conditions are selected from a uniform distribution in the specified range but are restricted to conditions for which the\n",
    "pendulum does not have enough energy to do a full loop. This condition is determined by checking that $|\\dot{z}(0)^2/2−cos z(0)| ≤ 0.99$.\""
   ]
  },
  {
   "cell_type": "markdown",
   "metadata": {},
   "source": [
    "An animation of this data for one inital condition can be seen in the pendulum_animation.gif"
   ]
  },
  {
   "cell_type": "code",
   "execution_count": 1,
   "metadata": {},
   "outputs": [
    {
     "name": "stdout",
     "output_type": "stream",
     "text": [
      "JAX is using: cpu\n",
      "Number of devices: 1\n",
      "TFRT_CPU_0\n"
     ]
    }
   ],
   "source": [
    "#Check if jax is using GPU\n",
    "import jax\n",
    "from jax.lib import xla_bridge\n",
    "\n",
    "#jax.config.update('enable_x64', True)\n",
    "\n",
    "print(f\"JAX is using: {xla_bridge.get_backend().platform}\")\n",
    "devices = jax.devices()\n",
    "print(f\"Number of devices: {len(devices)}\")\n",
    "for device in devices:\n",
    "    print(device)\n"
   ]
  },
  {
   "cell_type": "code",
   "execution_count": 2,
   "metadata": {},
   "outputs": [
    {
     "name": "stderr",
     "output_type": "stream",
     "text": [
      "/Users/junmiaohu/Documents/UiO/FYS5429/Project-2-FYS5429/project_2/src/data_utils.py:43: UserWarning: Explicitly requested dtype <class 'jax.numpy.float64'> requested in array is not available, and will be truncated to dtype float32. To enable more dtypes, set the jax_enable_x64 configuration option or the JAX_ENABLE_X64 shell environment variable. See https://github.com/google/jax#current-gotchas for more.\n",
      "  return jnp.array(batches, dtype=jnp.float64) #if float\n"
     ]
    }
   ],
   "source": [
    "from pendulumData import get_pendulum_data\n",
    "import sys\n",
    "sys.path.append('../')\n",
    "from data_utils import create_jax_batches_factory\n",
    "\n",
    "create_jax_batches = create_jax_batches_factory(second_order=True)\n",
    "\n",
    "\n",
    "# Set up training and validation data sets as arrays\n",
    "n_ics_training = 1\n",
    "n_ics_validation = 10\n",
    "\n",
    "noise_strength = 1e-6\n",
    "batch_size_training = 500\n",
    "batch_size_validation = 5000\n",
    "\n",
    "training_data = get_pendulum_data(n_ics_training)\n",
    "train_loader = create_jax_batches(training_data, batch_size_training)\n",
    "\n",
    "\n",
    "validation_data = get_pendulum_data(n_ics_validation)\n",
    "validation_loader = create_jax_batches(validation_data, batch_size_validation)\n"
   ]
  },
  {
   "cell_type": "code",
   "execution_count": 3,
   "metadata": {},
   "outputs": [],
   "source": [
    "# Define hyperparameters\n",
    "input_dim = 2601\n",
    "latent_dim = 1\n",
    "poly_order = 3\n",
    "widths = [128, 64, 32]\n",
    "\n",
    "initial_epochs = 5001\n",
    "final_epochs = 1001\n",
    "\n",
    "# Get example input from training_data loader\n",
    "x, dx, ddx = train_loader[0]\n",
    "\n",
    "# Define hyperparameters dictionary\n",
    "hparams = {\n",
    "    'input_dim': input_dim,\n",
    "    'latent_dim': latent_dim,\n",
    "    'poly_order': poly_order,\n",
    "    'widths': widths,\n",
    "    'activation': 'sigmoid',\n",
    "    'weight_initializer': 'xavier_uniform',\n",
    "    'bias_initializer': 'zeros',\n",
    "    'optimizer_hparams': {'optimizer': \"adam\", \"lr\": 1e-4},\n",
    "    'include_sine': True, #important  \n",
    "    'loss_weights': (1, 5e-4, 5e-5, 1e-5),  # Note different weights than Lorenz\n",
    "    'seed': 42, #importiante \n",
    "    'update_mask_every_n_epoch': 500,\n",
    "    'coefficient_threshold': 0.1,\n",
    "    'regularization': True,  \n",
    "    'second_order': True,   #second order True WIIIIIIII\n",
    "    'include_constant': True  \n",
    "}\n",
    "\n",
    "# Define other parameters dictionary\n",
    "trainer_params = {\n",
    "    'exmp_input': x,\n",
    "    'logger_params': {},\n",
    "    'enable_progress_bar': True,\n",
    "    'debug': False,\n",
    "    'check_val_every_n_epoch': 400\n",
    "}"
   ]
  },
  {
   "cell_type": "code",
   "execution_count": 4,
   "metadata": {},
   "outputs": [],
   "source": [
    "from trainer import SINDy_trainer\n",
    "\n",
    "# Merge dictionaries\n",
    "params = {**hparams, **trainer_params}\n",
    "\n",
    "# Initialize trainer\n",
    "trainer = SINDy_trainer(**params)"
   ]
  },
  {
   "cell_type": "code",
   "execution_count": 5,
   "metadata": {},
   "outputs": [
    {
     "name": "stdout",
     "output_type": "stream",
     "text": [
      "Running adam with lr=0.0001 and lr_schedule=False\n"
     ]
    },
    {
     "name": "stderr",
     "output_type": "stream",
     "text": [
      "Epochs: 100%|██████████| 2/2 [01:44<00:00, 52.00s/it]\n"
     ]
    },
    {
     "name": "stdout",
     "output_type": "stream",
     "text": [
      "Completed 2 epochs. Starting final training loop without regularization.\n",
      "Beginning final training loop.\n"
     ]
    },
    {
     "name": "stderr",
     "output_type": "stream",
     "text": [
      "Final Epochs without regularization: 100%|██████████| 1/1 [00:50<00:00, 50.85s/it]\n"
     ]
    }
   ],
   "source": [
    "trainer.train_model(train_loader, validation_loader, num_epochs=2, final_epochs=1)"
   ]
  },
  {
   "cell_type": "code",
   "execution_count": 6,
   "metadata": {},
   "outputs": [
    {
     "name": "stdout",
     "output_type": "stream",
     "text": [
      "[[0.9997006]\n",
      " [1.0002996]\n",
      " [0.9997035]\n",
      " [0.9997004]\n",
      " [0.9997035]\n",
      " [0.9997035]\n",
      " [1.0002973]\n",
      " [0.9997035]\n",
      " [0.9997035]\n",
      " [0.9997035]\n",
      " [1.0002996]\n",
      " [0.9997035]]\n"
     ]
    }
   ],
   "source": [
    "mask = trainer.state.mask\n",
    "xi = trainer.state.params['sindy_coefficients']\n",
    "xi = xi * mask\n",
    "\n",
    "print(xi)"
   ]
  },
  {
   "cell_type": "code",
   "execution_count": null,
   "metadata": {},
   "outputs": [],
   "source": []
  }
 ],
 "metadata": {
  "kernelspec": {
   "display_name": "SA",
   "language": "python",
   "name": "python3"
  },
  "language_info": {
   "codemirror_mode": {
    "name": "ipython",
    "version": 3
   },
   "file_extension": ".py",
   "mimetype": "text/x-python",
   "name": "python",
   "nbconvert_exporter": "python",
   "pygments_lexer": "ipython3",
   "version": "3.12.2"
  }
 },
 "nbformat": 4,
 "nbformat_minor": 2
}
